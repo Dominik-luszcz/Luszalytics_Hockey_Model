{
 "cells": [
  {
   "cell_type": "markdown",
   "metadata": {},
   "source": [
    "# All Data is from Moneypuck.com"
   ]
  },
  {
   "cell_type": "code",
   "execution_count": 1,
   "metadata": {},
   "outputs": [],
   "source": [
    "import pandas as pd\n",
    "import numpy as np\n",
    "import os\n",
    "import ipynb"
   ]
  },
  {
   "cell_type": "code",
   "execution_count": 16,
   "metadata": {},
   "outputs": [],
   "source": [
    "# Returns the position the team finished in the 2023/2024 season\n",
    "def define_team_rank(row):\n",
    "    # NHL regular season rankings where the index + 1 is the place in the standings that the team finished\n",
    "    regularSeasonRankings = [\"NYR\", \"DAL\", \"CAR\", \"WPG\", \"FLA\", \"VAN\", \"BOS\", \"COL\", \"EDM\", \"TOR\", \"NSH\", \"LAK\", \"TBL\",\n",
    "                             \"VGK\", \"NYI\", \"STL\", \"WSH\", \"DET\", \"PIT\", \"MIN\", \"PHI\", \"BUF\", 'NJD', \"CGY\", \"SEA\", \"OTT\",\n",
    "                             \"ARI\", \"MTL\", \"CBJ\", \"ANA\", \"CHI\", \"SJS\"]\n",
    "    return regularSeasonRankings.index(row[\"team\"]) + 1"
   ]
  },
  {
   "cell_type": "code",
   "execution_count": 22,
   "metadata": {},
   "outputs": [],
   "source": [
    "# Extract the player data by position\n",
    "\n",
    "def extract_skater_data():\n",
    "\n",
    "    skaters_file = open('./moneyPuckData/skaters.csv', 'r')\n",
    "    goalies_file = open('./moneyPuckData/goalies.csv', 'r')\n",
    "    skater_table = pd.read_csv(skaters_file)\n",
    "    goalies_table = pd.read_csv(goalies_file)\n",
    "\n",
    "    # remove uncessessary values like \"shifts\" because we will transform all data to per 60\n",
    "    skater_table.drop(columns=[\"games_played\", \"shifts\"], inplace=True)\n",
    "    goalies_table.drop(columns=[\"games_played\"], inplace=True)\n",
    "\n",
    "    skaters_file.close()\n",
    "    goalies_file.close()\n",
    "\n",
    "    # Read the cap_hit csv and merge the cap hits with the statistical data\n",
    "    cap_hit_file = open('./moneyPuckData/NHL_Contract_data.csv', 'r')\n",
    "\n",
    "    cap_table = pd.read_csv(cap_hit_file)\n",
    "    skater_table = skater_table.merge(cap_table, on=[\"name\"])\n",
    "    goalies_table = goalies_table.merge(cap_table, on=[\"name\"])\n",
    "\n",
    "    cap_hit_file.close()\n",
    "    \n",
    "    skater_table[\"team_rank\"] = skater_table.apply(define_team_rank, axis=1)\n",
    "    goalies_table[\"team_rank\"] = goalies_table.apply(define_team_rank, axis=1)\n",
    "\n",
    "    #skater_table = skater_table.loc[skater_table[\"icetime\"]> 6000]\n",
    "\n",
    "    defencemen = skater_table.loc[skater_table[\"position\"] == \"D\"]\n",
    "    centers = skater_table.loc[skater_table[\"position\"] == \"C\"]\n",
    "    left_wing = skater_table.loc[skater_table[\"position\"] == \"L\"]\n",
    "    right_wing = skater_table.loc[skater_table[\"position\"] == \"R\"]\n",
    "    forwards = skater_table.loc[skater_table[\"position\"] != \"D\"]\n",
    "\n",
    "    return defencemen, centers, left_wing, right_wing, forwards, goalies_table\n",
    "\n",
    "\n"
   ]
  },
  {
   "cell_type": "code",
   "execution_count": 9,
   "metadata": {},
   "outputs": [],
   "source": [
    "# Return a dataframe that removes players who have not played more than 100 minutes\n",
    "def remove_barely_played(df):\n",
    "    return df.loc[df[\"icetime\"] > 6000]"
   ]
  },
  {
   "cell_type": "code",
   "execution_count": 10,
   "metadata": {},
   "outputs": [],
   "source": [
    "# Return a dataframe making all relavent stats standardized at a per 60 minute rate\n",
    "def transform_data_per_60(df):\n",
    "     team_rank = df.loc[:,\"team_rank\"]\n",
    "     cap_hit = df.loc[:,\"cap_hit\"]\n",
    "     # ICETIME IS IN SECONDS\n",
    "\n",
    "     df.loc[:,\"icetime\"] = df.loc[:,\"icetime\"].div(60, axis=0)\n",
    "\n",
    "     df.iloc[:,9:] = df.iloc[:,9:].div(df.icetime * (1/60), axis=0)\n",
    "     df.iloc[:,1] = df.iloc[:,1].div(df.icetime * (1/60), axis=0)\n",
    "\n",
    "     df[\"team_rank\"] = team_rank\n",
    "     df[\"cap_hit\"] = cap_hit\n",
    "\n",
    "\n",
    "     # Add a Ginishing Variable\n",
    "     if \"I_F_goals\" in df.columns:\n",
    "          df[\"finishing\"] = df[\"I_F_goals\"] - df[\"I_F_xGoals\"]\n",
    "     elif \"goals\" in df.columns:\n",
    "          print(\"HI\")\n",
    "          df[\"GSAE\"] = df[\"xGoals\"] - df[\"goals\"]\n",
    "          df[\"Low_Danger\"] = df[\"lowDangerxGoals\"] - df[\"lowDangerGoals\"]\n",
    "          df[\"Medium_Danger\"] = df[\"mediumDangerxGoals\"] - df[\"mediumDangerGoals\"]\n",
    "          df[\"High_Danger\"] = df[\"highDangerxGoals\"] - df[\"highDangerGoals\"]\n",
    "\n",
    "     return df"
   ]
  },
  {
   "cell_type": "code",
   "execution_count": 5,
   "metadata": {},
   "outputs": [],
   "source": [
    "# Extract the situation data from a given daatframe \n",
    "def extract_skater_situational_data(df):\n",
    "    evenStrength = df.loc[df[\"situation\"] == \"5on5\"]\n",
    "    powerPlay = df.loc[df[\"situation\"] == \"5on4\"]\n",
    "    penaltyKill = df.loc[df[\"situation\"] == \"4on5\"]\n",
    "    allSituations = df.loc[df[\"situation\"] == \"all\"]\n",
    "    other = df.loc[df[\"situation\"] == \"ohter\"]\n",
    "\n",
    "    return evenStrength, powerPlay, penaltyKill, allSituations, other"
   ]
  },
  {
   "cell_type": "code",
   "execution_count": 11,
   "metadata": {},
   "outputs": [],
   "source": [
    "# Return the numerical and text data as 2 seperate dataframes\n",
    "def split_data_and_names(df):\n",
    "    names = df.iloc[:,:5]\n",
    "    data = df.iloc[:,6:]\n",
    "\n",
    "    return names, data"
   ]
  },
  {
   "cell_type": "code",
   "execution_count": 12,
   "metadata": {},
   "outputs": [
    {
     "name": "stdout",
     "output_type": "stream",
     "text": [
      "      playerId  season             name team position situation  icetime  \\\n",
      "0      8480950    2023  Ilya Lyubushkin  TOR        D     other   2881.0   \n",
      "1      8480950    2023  Ilya Lyubushkin  TOR        D       all  76034.0   \n",
      "2      8480950    2023  Ilya Lyubushkin  TOR        D      5on5  61758.0   \n",
      "3      8480950    2023  Ilya Lyubushkin  TOR        D      4on5  11271.0   \n",
      "4      8480950    2023  Ilya Lyubushkin  TOR        D      5on4    124.0   \n",
      "...        ...     ...              ...  ...      ...       ...      ...   \n",
      "3045   8477488    2023      Brett Pesce  CAR        D     other   2731.0   \n",
      "3046   8477488    2023      Brett Pesce  CAR        D       all  85212.0   \n",
      "3047   8477488    2023      Brett Pesce  CAR        D      5on5  72590.0   \n",
      "3048   8477488    2023      Brett Pesce  CAR        D      4on5   9349.0   \n",
      "3049   8477488    2023      Brett Pesce  CAR        D      5on4    542.0   \n",
      "\n",
      "      gameScore  onIce_xGoalsPercentage  offIce_xGoalsPercentage  ...  \\\n",
      "0          5.08                    0.37                     0.45  ...   \n",
      "1          4.47                    0.36                     0.51  ...   \n",
      "2          4.47                    0.46                     0.51  ...   \n",
      "3          3.43                    0.05                     0.13  ...   \n",
      "4          3.45                    1.00                     0.81  ...   \n",
      "...         ...                     ...                      ...  ...   \n",
      "3045      30.97                    0.61                     0.51  ...   \n",
      "3046      41.27                    0.50                     0.59  ...   \n",
      "3047      41.27                    0.54                     0.57  ...   \n",
      "3048      40.17                    0.17                     0.16  ...   \n",
      "3049      17.68                    0.99                     0.90  ...   \n",
      "\n",
      "      OffIce_F_shotAttempts  OffIce_A_shotAttempts  xGoalsForAfterShifts  \\\n",
      "0                     195.0                  191.0                  0.11   \n",
      "1                    3226.0                 3132.0                  0.00   \n",
      "2                    2302.0                 2303.0                  6.54   \n",
      "3                      68.0                  482.0                  0.11   \n",
      "4                     106.0                   19.0                  0.00   \n",
      "...                     ...                    ...                   ...   \n",
      "3045                  125.0                   84.0                  0.04   \n",
      "3046                 3431.0                 2154.0                  0.00   \n",
      "3047                 2625.0                 1751.0                  4.63   \n",
      "3048                   63.0                  222.0                  0.45   \n",
      "3049                  303.0                   36.0                  0.00   \n",
      "\n",
      "      xGoalsAgainstAfterShifts  corsiForAfterShifts  corsiAgainstAfterShifts  \\\n",
      "0                         0.02                  3.0                      1.0   \n",
      "1                         0.00                  0.0                      0.0   \n",
      "2                         0.64                140.0                     11.0   \n",
      "3                         0.00                  4.0                      0.0   \n",
      "4                         0.00                  0.0                      0.0   \n",
      "...                        ...                  ...                      ...   \n",
      "3045                      0.00                  1.0                      0.0   \n",
      "3046                      0.00                  0.0                      0.0   \n",
      "3047                      0.35                115.0                     17.0   \n",
      "3048                      0.05                  7.0                      1.0   \n",
      "3049                      0.00                  0.0                      0.0   \n",
      "\n",
      "      fenwickForAfterShifts  fenwickAgainstAfterShifts  cap_hit  team_rank  \n",
      "0                       3.0                        1.0  2750000         10  \n",
      "1                       0.0                        0.0  2750000         10  \n",
      "2                     108.0                        8.0  2750000         10  \n",
      "3                       3.0                        0.0  2750000         10  \n",
      "4                       0.0                        0.0  2750000         10  \n",
      "...                     ...                        ...      ...        ...  \n",
      "3045                    1.0                        0.0  4025000          3  \n",
      "3046                    0.0                        0.0  4025000          3  \n",
      "3047                   89.0                       12.0  4025000          3  \n",
      "3048                    6.0                        1.0  4025000          3  \n",
      "3049                    0.0                        0.0  4025000          3  \n",
      "\n",
      "[1090 rows x 151 columns]\n"
     ]
    }
   ],
   "source": [
    "defencemen, centers, left_wing, right_wing, forwards, goalies = extract_skater_data()\n",
    "\n",
    "\n",
    "defencemen.drop(columns=[\"faceoffsWon\", \"faceoffsLost\", \"I_F_faceOffsWon\"], inplace=True)\n",
    "print(defencemen)\n",
    "goalies.to_csv(\"./goalies.csv\", index=False)"
   ]
  },
  {
   "cell_type": "code",
   "execution_count": 13,
   "metadata": {},
   "outputs": [
    {
     "name": "stdout",
     "output_type": "stream",
     "text": [
      "Stored 'evenStrengthD' (DataFrame)\n",
      "Stored 'penaltyKillD' (DataFrame)\n",
      "Stored 'powerPlayD' (DataFrame)\n",
      "Stored 'transformed_defence_data' (DataFrame)\n",
      "Stored 'evenStrengthD_names' (DataFrame)\n",
      "Stored 'transformed_ppD_data' (DataFrame)\n",
      "Stored 'powerPlayD_names' (DataFrame)\n",
      "Stored 'transformed_pkD_data' (DataFrame)\n",
      "Stored 'penaltyKillD_names' (DataFrame)\n"
     ]
    }
   ],
   "source": [
    "evenStrengthD, powerPlayD, penaltyKillD, allSituationsD, otherD = extract_skater_situational_data(defencemen)\n",
    "%store evenStrengthD\n",
    "%store penaltyKillD\n",
    "%store powerPlayD\n",
    "evenStrengthD, powerPlayD, penaltyKillD = remove_barely_played(evenStrengthD), remove_barely_played(powerPlayD), remove_barely_played(penaltyKillD)\n",
    "evenStrengthD_names, evenStrengthD_data = split_data_and_names(evenStrengthD)\n",
    "powerPlayD_names, powerPlayD_data = split_data_and_names(powerPlayD)\n",
    "penaltyKillD_names, penaltyKillD_data = split_data_and_names(penaltyKillD)\n",
    "\n",
    "transformed_defence_data = transform_data_per_60(evenStrengthD_data)\n",
    "transformed_ppD_data = transform_data_per_60(powerPlayD_data)\n",
    "transformed_pkD_data = transform_data_per_60(penaltyKillD_data)\n",
    "\n",
    "%store transformed_defence_data\n",
    "%store evenStrengthD_names\n",
    "\n",
    "%store transformed_ppD_data\n",
    "%store powerPlayD_names\n",
    "%store transformed_pkD_data\n",
    "%store penaltyKillD_names\n",
    "\n",
    "test_df = pd.concat([evenStrengthD_names, transformed_defence_data], axis=1)\n",
    "test_df.to_csv(\"./evenStrengthDPer60.csv\", index=False)"
   ]
  },
  {
   "cell_type": "code",
   "execution_count": 23,
   "metadata": {},
   "outputs": [
    {
     "name": "stdout",
     "output_type": "stream",
     "text": [
      "Stored 'evenStrengthF' (DataFrame)\n",
      "Stored 'powerPlayF' (DataFrame)\n",
      "Stored 'penaltyKillF' (DataFrame)\n",
      "Stored 'transformed_forward_data' (DataFrame)\n",
      "Stored 'evenStrengthF_names' (DataFrame)\n",
      "Stored 'transformed_ppF_data' (DataFrame)\n",
      "Stored 'powerPlayF_names' (DataFrame)\n",
      "Stored 'transformed_pkF_data' (DataFrame)\n",
      "Stored 'penaltyKillF_names' (DataFrame)\n"
     ]
    }
   ],
   "source": [
    "forwards.to_csv(\"./forwards.csv\", index=False)\n",
    "evenStrengthF, powerPlayF, penaltyKillF, allSituationsF, otherF = extract_skater_situational_data(forwards)\n",
    "%store evenStrengthF\n",
    "%store powerPlayF\n",
    "%store penaltyKillF\n",
    "evenStrengthF, powerPlayF, penaltyKillF = remove_barely_played(evenStrengthF), remove_barely_played(powerPlayF), remove_barely_played(penaltyKillF)\n",
    "evenStrengthF_names, evenStrengthF_data = split_data_and_names(evenStrengthF)\n",
    "powerPlayF_names, powerPlayF_data = split_data_and_names(powerPlayF)\n",
    "penaltyKillF_names, penaltyKillF_data = split_data_and_names(penaltyKillF)\n",
    "\n",
    "transformed_forward_data = transform_data_per_60(evenStrengthF_data)\n",
    "transformed_ppF_data = transform_data_per_60(powerPlayF_data)\n",
    "transformed_pkF_data = transform_data_per_60(penaltyKillF_data)\n",
    "\n",
    "%store transformed_forward_data\n",
    "%store evenStrengthF_names\n",
    "\n",
    "%store transformed_ppF_data\n",
    "%store powerPlayF_names\n",
    "%store transformed_pkF_data\n",
    "%store penaltyKillF_names"
   ]
  },
  {
   "cell_type": "code",
   "execution_count": 15,
   "metadata": {},
   "outputs": [
    {
     "name": "stdout",
     "output_type": "stream",
     "text": [
      "Stored 'evenStrengthG' (DataFrame)\n",
      "Stored 'powerPlayG' (DataFrame)\n",
      "Stored 'penaltyKillG' (DataFrame)\n",
      "2      5666667\n",
      "7      4000000\n",
      "12     1500000\n",
      "17     5000000\n",
      "22     5000000\n",
      "        ...   \n",
      "322    4750000\n",
      "327     766666\n",
      "332    1100000\n",
      "337    5250000\n",
      "342     962500\n",
      "Name: cap_hit, Length: 69, dtype: int64\n",
      "HI\n",
      "HI\n",
      "HI\n",
      "Stored 'transformed_goalie_data' (DataFrame)\n",
      "Stored 'evenStrengthG_names' (DataFrame)\n",
      "Stored 'transformed_ppG_data' (DataFrame)\n",
      "Stored 'powerPlayG_names' (DataFrame)\n",
      "Stored 'transformed_pkG_data' (DataFrame)\n",
      "Stored 'penaltyKillG_names' (DataFrame)\n"
     ]
    }
   ],
   "source": [
    "evenStrengthG, powerPlayG, penaltyKillG, allSituationsG, otherG = extract_skater_situational_data(goalies)\n",
    "%store evenStrengthG\n",
    "%store powerPlayG\n",
    "%store penaltyKillG\n",
    "\n",
    "print(evenStrengthG[\"cap_hit\"])\n",
    "\n",
    "\n",
    "evenStrengthG, powerPlayG, penaltyKillG = remove_barely_played(evenStrengthG), remove_barely_played(powerPlayG), remove_barely_played(penaltyKillG)\n",
    "evenStrengthG_names, evenStrengthG_data = split_data_and_names(evenStrengthG)\n",
    "powerPlayG_names, powerPlayG_data = split_data_and_names(powerPlayG)\n",
    "penaltyKillG_names, penaltyKillG_data = split_data_and_names(penaltyKillG)\n",
    "\n",
    "transformed_goalie_data = transform_data_per_60(evenStrengthG_data)\n",
    "transformed_ppG_data = transform_data_per_60(powerPlayG_data)\n",
    "transformed_pkG_data = transform_data_per_60(penaltyKillG_data)\n",
    "\n",
    "%store transformed_goalie_data\n",
    "%store evenStrengthG_names\n",
    "\n",
    "%store transformed_ppG_data\n",
    "%store powerPlayG_names\n",
    "%store transformed_pkG_data\n",
    "%store penaltyKillG_names"
   ]
  }
 ],
 "metadata": {
  "kernelspec": {
   "display_name": "Python 3",
   "language": "python",
   "name": "python3"
  },
  "language_info": {
   "codemirror_mode": {
    "name": "ipython",
    "version": 3
   },
   "file_extension": ".py",
   "mimetype": "text/x-python",
   "name": "python",
   "nbconvert_exporter": "python",
   "pygments_lexer": "ipython3",
   "version": "3.10.12"
  }
 },
 "nbformat": 4,
 "nbformat_minor": 2
}
